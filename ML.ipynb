{
  "nbformat": 4,
  "nbformat_minor": 0,
  "metadata": {
    "colab": {
      "name": "ML.ipynb",
      "provenance": [],
      "authorship_tag": "ABX9TyNYajdvTkJSMyicl2deCVA3",
      "include_colab_link": true
    },
    "kernelspec": {
      "name": "python3",
      "display_name": "Python 3"
    },
    "language_info": {
      "name": "python"
    }
  },
  "cells": [
    {
      "cell_type": "markdown",
      "metadata": {
        "id": "view-in-github",
        "colab_type": "text"
      },
      "source": [
        "<a href=\"https://colab.research.google.com/github/Jugabuntu/MLPNS2021/blob/main/ML.ipynb\" target=\"_parent\"><img src=\"https://colab.research.google.com/assets/colab-badge.svg\" alt=\"Open In Colab\"/></a>"
      ]
    },
    {
      "cell_type": "code",
      "metadata": {
        "id": "aqcrHMckdzDO"
      },
      "source": [
        "import pandas as pd\n",
        "import matplotlib.pyplot as plt\n",
        "import numpy as np"
      ],
      "execution_count": 1,
      "outputs": []
    },
    {
      "cell_type": "code",
      "metadata": {
        "id": "1IH7eO6zIHp7"
      },
      "source": [
        "#lezione mercoledì 17/03/21"
      ],
      "execution_count": 2,
      "outputs": []
    },
    {
      "cell_type": "code",
      "metadata": {
        "id": "nJzx95k0IH6t"
      },
      "source": [
        ""
      ],
      "execution_count": null,
      "outputs": []
    },
    {
      "cell_type": "code",
      "metadata": {
        "id": "e4gHyjTHIH9V"
      },
      "source": [
        ""
      ],
      "execution_count": null,
      "outputs": []
    },
    {
      "cell_type": "code",
      "metadata": {
        "id": "bsXEG219IIAO"
      },
      "source": [
        ""
      ],
      "execution_count": null,
      "outputs": []
    },
    {
      "cell_type": "code",
      "metadata": {
        "id": "pSL7UnRRIIC_"
      },
      "source": [
        ""
      ],
      "execution_count": null,
      "outputs": []
    },
    {
      "cell_type": "code",
      "metadata": {
        "id": "K0ZBWmC6IIFj"
      },
      "source": [
        ""
      ],
      "execution_count": null,
      "outputs": []
    },
    {
      "cell_type": "code",
      "metadata": {
        "id": "ydrymRHnd4uq"
      },
      "source": [
        "df = pd.read_csv(\"https://raw.githubusercontent.com/fedhere/DSPS/master/labs/1865331.csv\")"
      ],
      "execution_count": null,
      "outputs": []
    },
    {
      "cell_type": "code",
      "metadata": {
        "colab": {
          "base_uri": "https://localhost:8080/"
        },
        "id": "94G3D6pUd4xU",
        "outputId": "5b74cf90-25a7-4b6d-938a-75e6b1625ebb"
      },
      "source": [
        "type(df)"
      ],
      "execution_count": null,
      "outputs": [
        {
          "output_type": "execute_result",
          "data": {
            "text/plain": [
              "pandas.core.frame.DataFrame"
            ]
          },
          "metadata": {
            "tags": []
          },
          "execution_count": 5
        }
      ]
    },
    {
      "cell_type": "code",
      "metadata": {
        "colab": {
          "base_uri": "https://localhost:8080/",
          "height": 282
        },
        "id": "3l33lUuMd40A",
        "outputId": "9948cc72-3461-42f7-fd5f-1a6259c7b02f"
      },
      "source": [
        "df.plot()"
      ],
      "execution_count": null,
      "outputs": [
        {
          "output_type": "execute_result",
          "data": {
            "text/plain": [
              "<matplotlib.axes._subplots.AxesSubplot at 0x7fb7fa448a50>"
            ]
          },
          "metadata": {
            "tags": []
          },
          "execution_count": 6
        },
        {
          "output_type": "display_data",
          "data": {
            "image/png": "[encoded data removed]",
            "text/plain": [
              "<Figure size 432x288 with 1 Axes>"
            ]
          },
          "metadata": {
            "tags": [],
            "needs_background": "light"
          }
        }
      ]
    },
    {
      "cell_type": "code",
      "metadata": {
        "colab": {
          "base_uri": "https://localhost:8080/",
          "height": 343
        },
        "id": "U5BhJ0Ted42u",
        "outputId": "1bc0d2c6-6936-4ba3-c901-bed32d343064"
      },
      "source": [
        "df.head(10)"
      ],
      "execution_count": null,
      "outputs": [
        {
          "output_type": "execute_result",
          "data": {
            "text/html": [
              "<div>\n",
              "<style scoped>\n",
              "    .dataframe tbody tr th:only-of-type {\n",
              "        vertical-align: middle;\n",
              "    }\n",
              "\n",
              "    .dataframe tbody tr th {\n",
              "        vertical-align: top;\n",
              "    }\n",
              "\n",
              "    .dataframe thead th {\n",
              "        text-align: right;\n",
              "    }\n",
              "</style>\n",
              "<table border=\"1\" class=\"dataframe\">\n",
              "  <thead>\n",
              "    <tr style=\"text-align: right;\">\n",
              "      <th></th>\n",
              "      <th>STATION</th>\n",
              "      <th>NAME</th>\n",
              "      <th>DATE</th>\n",
              "      <th>PRCP</th>\n",
              "      <th>SNOW</th>\n",
              "      <th>SNWD</th>\n",
              "      <th>WESD</th>\n",
              "      <th>WESF</th>\n",
              "    </tr>\n",
              "  </thead>\n",
              "  <tbody>\n",
              "    <tr>\n",
              "      <th>0</th>\n",
              "      <td>US1DENC0010</td>\n",
              "      <td>NEWPORT 2.4 WNW, DE US</td>\n",
              "      <td>2010-01-01</td>\n",
              "      <td>0.28</td>\n",
              "      <td>NaN</td>\n",
              "      <td>0.0</td>\n",
              "      <td>NaN</td>\n",
              "      <td>NaN</td>\n",
              "    </tr>\n",
              "    <tr>\n",
              "      <th>1</th>\n",
              "      <td>US1DENC0010</td>\n",
              "      <td>NEWPORT 2.4 WNW, DE US</td>\n",
              "      <td>2010-01-02</td>\n",
              "      <td>0.00</td>\n",
              "      <td>0.0</td>\n",
              "      <td>NaN</td>\n",
              "      <td>NaN</td>\n",
              "      <td>NaN</td>\n",
              "    </tr>\n",
              "    <tr>\n",
              "      <th>2</th>\n",
              "      <td>US1DENC0010</td>\n",
              "      <td>NEWPORT 2.4 WNW, DE US</td>\n",
              "      <td>2010-01-03</td>\n",
              "      <td>0.00</td>\n",
              "      <td>0.0</td>\n",
              "      <td>NaN</td>\n",
              "      <td>NaN</td>\n",
              "      <td>NaN</td>\n",
              "    </tr>\n",
              "    <tr>\n",
              "      <th>3</th>\n",
              "      <td>US1DENC0010</td>\n",
              "      <td>NEWPORT 2.4 WNW, DE US</td>\n",
              "      <td>2010-01-04</td>\n",
              "      <td>0.00</td>\n",
              "      <td>0.0</td>\n",
              "      <td>NaN</td>\n",
              "      <td>NaN</td>\n",
              "      <td>NaN</td>\n",
              "    </tr>\n",
              "    <tr>\n",
              "      <th>4</th>\n",
              "      <td>US1DENC0010</td>\n",
              "      <td>NEWPORT 2.4 WNW, DE US</td>\n",
              "      <td>2010-01-05</td>\n",
              "      <td>0.00</td>\n",
              "      <td>NaN</td>\n",
              "      <td>NaN</td>\n",
              "      <td>NaN</td>\n",
              "      <td>NaN</td>\n",
              "    </tr>\n",
              "    <tr>\n",
              "      <th>5</th>\n",
              "      <td>US1DENC0010</td>\n",
              "      <td>NEWPORT 2.4 WNW, DE US</td>\n",
              "      <td>2010-01-06</td>\n",
              "      <td>0.00</td>\n",
              "      <td>0.0</td>\n",
              "      <td>NaN</td>\n",
              "      <td>NaN</td>\n",
              "      <td>NaN</td>\n",
              "    </tr>\n",
              "    <tr>\n",
              "      <th>6</th>\n",
              "      <td>US1DENC0010</td>\n",
              "      <td>NEWPORT 2.4 WNW, DE US</td>\n",
              "      <td>2010-01-07</td>\n",
              "      <td>0.00</td>\n",
              "      <td>0.0</td>\n",
              "      <td>NaN</td>\n",
              "      <td>NaN</td>\n",
              "      <td>NaN</td>\n",
              "    </tr>\n",
              "    <tr>\n",
              "      <th>7</th>\n",
              "      <td>US1DENC0010</td>\n",
              "      <td>NEWPORT 2.4 WNW, DE US</td>\n",
              "      <td>2010-01-08</td>\n",
              "      <td>0.05</td>\n",
              "      <td>1.1</td>\n",
              "      <td>1.0</td>\n",
              "      <td>0.1</td>\n",
              "      <td>0.1</td>\n",
              "    </tr>\n",
              "    <tr>\n",
              "      <th>8</th>\n",
              "      <td>US1DENC0010</td>\n",
              "      <td>NEWPORT 2.4 WNW, DE US</td>\n",
              "      <td>2010-01-09</td>\n",
              "      <td>0.00</td>\n",
              "      <td>0.0</td>\n",
              "      <td>0.0</td>\n",
              "      <td>NaN</td>\n",
              "      <td>NaN</td>\n",
              "    </tr>\n",
              "    <tr>\n",
              "      <th>9</th>\n",
              "      <td>US1DENC0010</td>\n",
              "      <td>NEWPORT 2.4 WNW, DE US</td>\n",
              "      <td>2010-01-10</td>\n",
              "      <td>0.00</td>\n",
              "      <td>0.0</td>\n",
              "      <td>NaN</td>\n",
              "      <td>NaN</td>\n",
              "      <td>NaN</td>\n",
              "    </tr>\n",
              "  </tbody>\n",
              "</table>\n",
              "</div>"
            ],
            "text/plain": [
              "       STATION                    NAME        DATE  ...  SNWD  WESD  WESF\n",
              "0  US1DENC0010  NEWPORT 2.4 WNW, DE US  2010-01-01  ...   0.0   NaN   NaN\n",
              "1  US1DENC0010  NEWPORT 2.4 WNW, DE US  2010-01-02  ...   NaN   NaN   NaN\n",
              "2  US1DENC0010  NEWPORT 2.4 WNW, DE US  2010-01-03  ...   NaN   NaN   NaN\n",
              "3  US1DENC0010  NEWPORT 2.4 WNW, DE US  2010-01-04  ...   NaN   NaN   NaN\n",
              "4  US1DENC0010  NEWPORT 2.4 WNW, DE US  2010-01-05  ...   NaN   NaN   NaN\n",
              "5  US1DENC0010  NEWPORT 2.4 WNW, DE US  2010-01-06  ...   NaN   NaN   NaN\n",
              "6  US1DENC0010  NEWPORT 2.4 WNW, DE US  2010-01-07  ...   NaN   NaN   NaN\n",
              "7  US1DENC0010  NEWPORT 2.4 WNW, DE US  2010-01-08  ...   1.0   0.1   0.1\n",
              "8  US1DENC0010  NEWPORT 2.4 WNW, DE US  2010-01-09  ...   0.0   NaN   NaN\n",
              "9  US1DENC0010  NEWPORT 2.4 WNW, DE US  2010-01-10  ...   NaN   NaN   NaN\n",
              "\n",
              "[10 rows x 8 columns]"
            ]
          },
          "metadata": {
            "tags": []
          },
          "execution_count": 9
        }
      ]
    },
    {
      "cell_type": "code",
      "metadata": {
        "colab": {
          "base_uri": "https://localhost:8080/",
          "height": 195
        },
        "id": "Uk1h83PQd45Y",
        "outputId": "5e9c9f54-1001-41fc-9de4-4b60fb7b2539"
      },
      "source": [
        "df.tail()"
      ],
      "execution_count": null,
      "outputs": [
        {
          "output_type": "execute_result",
          "data": {
            "text/html": [
              "<div>\n",
              "<style scoped>\n",
              "    .dataframe tbody tr th:only-of-type {\n",
              "        vertical-align: middle;\n",
              "    }\n",
              "\n",
              "    .dataframe tbody tr th {\n",
              "        vertical-align: top;\n",
              "    }\n",
              "\n",
              "    .dataframe thead th {\n",
              "        text-align: right;\n",
              "    }\n",
              "</style>\n",
              "<table border=\"1\" class=\"dataframe\">\n",
              "  <thead>\n",
              "    <tr style=\"text-align: right;\">\n",
              "      <th></th>\n",
              "      <th>STATION</th>\n",
              "      <th>NAME</th>\n",
              "      <th>DATE</th>\n",
              "      <th>PRCP</th>\n",
              "      <th>SNOW</th>\n",
              "      <th>SNWD</th>\n",
              "      <th>WESD</th>\n",
              "      <th>WESF</th>\n",
              "    </tr>\n",
              "  </thead>\n",
              "  <tbody>\n",
              "    <tr>\n",
              "      <th>3533</th>\n",
              "      <td>US1DENC0010</td>\n",
              "      <td>NEWPORT 2.4 WNW, DE US</td>\n",
              "      <td>2019-09-04</td>\n",
              "      <td>0.00</td>\n",
              "      <td>0.0</td>\n",
              "      <td>NaN</td>\n",
              "      <td>NaN</td>\n",
              "      <td>NaN</td>\n",
              "    </tr>\n",
              "    <tr>\n",
              "      <th>3534</th>\n",
              "      <td>US1DENC0010</td>\n",
              "      <td>NEWPORT 2.4 WNW, DE US</td>\n",
              "      <td>2019-09-05</td>\n",
              "      <td>0.00</td>\n",
              "      <td>0.0</td>\n",
              "      <td>NaN</td>\n",
              "      <td>NaN</td>\n",
              "      <td>NaN</td>\n",
              "    </tr>\n",
              "    <tr>\n",
              "      <th>3535</th>\n",
              "      <td>US1DENC0010</td>\n",
              "      <td>NEWPORT 2.4 WNW, DE US</td>\n",
              "      <td>2019-09-06</td>\n",
              "      <td>0.00</td>\n",
              "      <td>0.0</td>\n",
              "      <td>NaN</td>\n",
              "      <td>NaN</td>\n",
              "      <td>NaN</td>\n",
              "    </tr>\n",
              "    <tr>\n",
              "      <th>3536</th>\n",
              "      <td>US1DENC0010</td>\n",
              "      <td>NEWPORT 2.4 WNW, DE US</td>\n",
              "      <td>2019-09-07</td>\n",
              "      <td>0.02</td>\n",
              "      <td>NaN</td>\n",
              "      <td>NaN</td>\n",
              "      <td>NaN</td>\n",
              "      <td>NaN</td>\n",
              "    </tr>\n",
              "    <tr>\n",
              "      <th>3537</th>\n",
              "      <td>US1DENC0010</td>\n",
              "      <td>NEWPORT 2.4 WNW, DE US</td>\n",
              "      <td>2019-09-08</td>\n",
              "      <td>0.00</td>\n",
              "      <td>0.0</td>\n",
              "      <td>NaN</td>\n",
              "      <td>NaN</td>\n",
              "      <td>NaN</td>\n",
              "    </tr>\n",
              "  </tbody>\n",
              "</table>\n",
              "</div>"
            ],
            "text/plain": [
              "          STATION                    NAME        DATE  ...  SNWD  WESD  WESF\n",
              "3533  US1DENC0010  NEWPORT 2.4 WNW, DE US  2019-09-04  ...   NaN   NaN   NaN\n",
              "3534  US1DENC0010  NEWPORT 2.4 WNW, DE US  2019-09-05  ...   NaN   NaN   NaN\n",
              "3535  US1DENC0010  NEWPORT 2.4 WNW, DE US  2019-09-06  ...   NaN   NaN   NaN\n",
              "3536  US1DENC0010  NEWPORT 2.4 WNW, DE US  2019-09-07  ...   NaN   NaN   NaN\n",
              "3537  US1DENC0010  NEWPORT 2.4 WNW, DE US  2019-09-08  ...   NaN   NaN   NaN\n",
              "\n",
              "[5 rows x 8 columns]"
            ]
          },
          "metadata": {
            "tags": []
          },
          "execution_count": 8
        }
      ]
    },
    {
      "cell_type": "code",
      "metadata": {
        "colab": {
          "base_uri": "https://localhost:8080/"
        },
        "id": "o5NtHMrQd48c",
        "outputId": "e120d919-db76-44b9-94b8-b2b868de2c58"
      },
      "source": [
        "df.columns"
      ],
      "execution_count": null,
      "outputs": [
        {
          "output_type": "execute_result",
          "data": {
            "text/plain": [
              "Index(['STATION', 'NAME', 'DATE', 'PRCP', 'SNOW', 'SNWD', 'WESD', 'WESF'], dtype='object')"
            ]
          },
          "metadata": {
            "tags": []
          },
          "execution_count": 11
        }
      ]
    },
    {
      "cell_type": "code",
      "metadata": {
        "colab": {
          "base_uri": "https://localhost:8080/"
        },
        "id": "S85mPI0gd4-8",
        "outputId": "b753777e-3bdf-4119-8ed3-f9f60c1c563f"
      },
      "source": [
        "df.index"
      ],
      "execution_count": null,
      "outputs": [
        {
          "output_type": "execute_result",
          "data": {
            "text/plain": [
              "RangeIndex(start=0, stop=3538, step=1)"
            ]
          },
          "metadata": {
            "tags": []
          },
          "execution_count": 13
        }
      ]
    },
    {
      "cell_type": "code",
      "metadata": {
        "colab": {
          "base_uri": "https://localhost:8080/"
        },
        "id": "yuP9j_H5d5Bm",
        "outputId": "5787178f-cc90-4fa5-eb31-889847f95e76"
      },
      "source": [
        "df['STATION']\n",
        "#this is not a DFrame, is a series. A DF is a collection of DFrame"
      ],
      "execution_count": null,
      "outputs": [
        {
          "output_type": "execute_result",
          "data": {
            "text/plain": [
              "0       US1DENC0010\n",
              "1       US1DENC0010\n",
              "2       US1DENC0010\n",
              "3       US1DENC0010\n",
              "4       US1DENC0010\n",
              "           ...     \n",
              "3533    US1DENC0010\n",
              "3534    US1DENC0010\n",
              "3535    US1DENC0010\n",
              "3536    US1DENC0010\n",
              "3537    US1DENC0010\n",
              "Name: STATION, Length: 3538, dtype: object"
            ]
          },
          "metadata": {
            "tags": []
          },
          "execution_count": 14
        }
      ]
    },
    {
      "cell_type": "code",
      "metadata": {
        "colab": {
          "base_uri": "https://localhost:8080/",
          "height": 402
        },
        "id": "5O-U1YLqd5EP",
        "outputId": "9e57177e-9855-4208-982f-e1a84a8fa337"
      },
      "source": [
        "df[['STATION']]"
      ],
      "execution_count": null,
      "outputs": [
        {
          "output_type": "execute_result",
          "data": {
            "text/html": [
              "<div>\n",
              "<style scoped>\n",
              "    .dataframe tbody tr th:only-of-type {\n",
              "        vertical-align: middle;\n",
              "    }\n",
              "\n",
              "    .dataframe tbody tr th {\n",
              "        vertical-align: top;\n",
              "    }\n",
              "\n",
              "    .dataframe thead th {\n",
              "        text-align: right;\n",
              "    }\n",
              "</style>\n",
              "<table border=\"1\" class=\"dataframe\">\n",
              "  <thead>\n",
              "    <tr style=\"text-align: right;\">\n",
              "      <th></th>\n",
              "      <th>STATION</th>\n",
              "    </tr>\n",
              "  </thead>\n",
              "  <tbody>\n",
              "    <tr>\n",
              "      <th>0</th>\n",
              "      <td>US1DENC0010</td>\n",
              "    </tr>\n",
              "    <tr>\n",
              "      <th>1</th>\n",
              "      <td>US1DENC0010</td>\n",
              "    </tr>\n",
              "    <tr>\n",
              "      <th>2</th>\n",
              "      <td>US1DENC0010</td>\n",
              "    </tr>\n",
              "    <tr>\n",
              "      <th>3</th>\n",
              "      <td>US1DENC0010</td>\n",
              "    </tr>\n",
              "    <tr>\n",
              "      <th>4</th>\n",
              "      <td>US1DENC0010</td>\n",
              "    </tr>\n",
              "    <tr>\n",
              "      <th>...</th>\n",
              "      <td>...</td>\n",
              "    </tr>\n",
              "    <tr>\n",
              "      <th>3533</th>\n",
              "      <td>US1DENC0010</td>\n",
              "    </tr>\n",
              "    <tr>\n",
              "      <th>3534</th>\n",
              "      <td>US1DENC0010</td>\n",
              "    </tr>\n",
              "    <tr>\n",
              "      <th>3535</th>\n",
              "      <td>US1DENC0010</td>\n",
              "    </tr>\n",
              "    <tr>\n",
              "      <th>3536</th>\n",
              "      <td>US1DENC0010</td>\n",
              "    </tr>\n",
              "    <tr>\n",
              "      <th>3537</th>\n",
              "      <td>US1DENC0010</td>\n",
              "    </tr>\n",
              "  </tbody>\n",
              "</table>\n",
              "<p>3538 rows × 1 columns</p>\n",
              "</div>"
            ],
            "text/plain": [
              "          STATION\n",
              "0     US1DENC0010\n",
              "1     US1DENC0010\n",
              "2     US1DENC0010\n",
              "3     US1DENC0010\n",
              "4     US1DENC0010\n",
              "...           ...\n",
              "3533  US1DENC0010\n",
              "3534  US1DENC0010\n",
              "3535  US1DENC0010\n",
              "3536  US1DENC0010\n",
              "3537  US1DENC0010\n",
              "\n",
              "[3538 rows x 1 columns]"
            ]
          },
          "metadata": {
            "tags": []
          },
          "execution_count": 16
        }
      ]
    },
    {
      "cell_type": "code",
      "metadata": {
        "colab": {
          "base_uri": "https://localhost:8080/",
          "height": 35
        },
        "id": "Zaa9WC8md5HC",
        "outputId": "158089c6-bc2a-41c3-cdad-b4f7c9244b11"
      },
      "source": [
        "df.loc[3537]['STATION']"
      ],
      "execution_count": null,
      "outputs": [
        {
          "output_type": "execute_result",
          "data": {
            "application/vnd.google.colaboratory.intrinsic+json": {
              "type": "string"
            },
            "text/plain": [
              "'US1DENC0010'"
            ]
          },
          "metadata": {
            "tags": []
          },
          "execution_count": 18
        }
      ]
    },
    {
      "cell_type": "code",
      "metadata": {
        "colab": {
          "base_uri": "https://localhost:8080/",
          "height": 35
        },
        "id": "D4rAFyQfd5Kk",
        "outputId": "113b59cc-1a49-4a8c-896f-f8b965668127"
      },
      "source": [
        "df.iloc[3537][0]"
      ],
      "execution_count": null,
      "outputs": [
        {
          "output_type": "execute_result",
          "data": {
            "application/vnd.google.colaboratory.intrinsic+json": {
              "type": "string"
            },
            "text/plain": [
              "'US1DENC0010'"
            ]
          },
          "metadata": {
            "tags": []
          },
          "execution_count": 23
        }
      ]
    },
    {
      "cell_type": "code",
      "metadata": {
        "colab": {
          "base_uri": "https://localhost:8080/",
          "height": 284
        },
        "id": "I8uBrBszd5Mc",
        "outputId": "e5201848-175e-4b90-8484-82239cbc8f2c"
      },
      "source": [
        "df.describe()"
      ],
      "execution_count": null,
      "outputs": [
        {
          "output_type": "execute_result",
          "data": {
            "text/html": [
              "<div>\n",
              "<style scoped>\n",
              "    .dataframe tbody tr th:only-of-type {\n",
              "        vertical-align: middle;\n",
              "    }\n",
              "\n",
              "    .dataframe tbody tr th {\n",
              "        vertical-align: top;\n",
              "    }\n",
              "\n",
              "    .dataframe thead th {\n",
              "        text-align: right;\n",
              "    }\n",
              "</style>\n",
              "<table border=\"1\" class=\"dataframe\">\n",
              "  <thead>\n",
              "    <tr style=\"text-align: right;\">\n",
              "      <th></th>\n",
              "      <th>PRCP</th>\n",
              "      <th>SNOW</th>\n",
              "      <th>SNWD</th>\n",
              "      <th>WESD</th>\n",
              "      <th>WESF</th>\n",
              "    </tr>\n",
              "  </thead>\n",
              "  <tbody>\n",
              "    <tr>\n",
              "      <th>count</th>\n",
              "      <td>3538.000000</td>\n",
              "      <td>2266.00000</td>\n",
              "      <td>216.000000</td>\n",
              "      <td>175.000000</td>\n",
              "      <td>256.000000</td>\n",
              "    </tr>\n",
              "    <tr>\n",
              "      <th>mean</th>\n",
              "      <td>0.137340</td>\n",
              "      <td>0.09594</td>\n",
              "      <td>1.026852</td>\n",
              "      <td>0.160571</td>\n",
              "      <td>0.073828</td>\n",
              "    </tr>\n",
              "    <tr>\n",
              "      <th>std</th>\n",
              "      <td>0.382174</td>\n",
              "      <td>0.64966</td>\n",
              "      <td>2.738447</td>\n",
              "      <td>0.457994</td>\n",
              "      <td>0.175507</td>\n",
              "    </tr>\n",
              "    <tr>\n",
              "      <th>min</th>\n",
              "      <td>0.000000</td>\n",
              "      <td>0.00000</td>\n",
              "      <td>0.000000</td>\n",
              "      <td>0.000000</td>\n",
              "      <td>0.000000</td>\n",
              "    </tr>\n",
              "    <tr>\n",
              "      <th>25%</th>\n",
              "      <td>0.000000</td>\n",
              "      <td>0.00000</td>\n",
              "      <td>0.000000</td>\n",
              "      <td>0.000000</td>\n",
              "      <td>0.000000</td>\n",
              "    </tr>\n",
              "    <tr>\n",
              "      <th>50%</th>\n",
              "      <td>0.000000</td>\n",
              "      <td>0.00000</td>\n",
              "      <td>0.000000</td>\n",
              "      <td>0.000000</td>\n",
              "      <td>0.000000</td>\n",
              "    </tr>\n",
              "    <tr>\n",
              "      <th>75%</th>\n",
              "      <td>0.070000</td>\n",
              "      <td>0.00000</td>\n",
              "      <td>0.350000</td>\n",
              "      <td>0.100000</td>\n",
              "      <td>0.100000</td>\n",
              "    </tr>\n",
              "    <tr>\n",
              "      <th>max</th>\n",
              "      <td>6.960000</td>\n",
              "      <td>12.30000</td>\n",
              "      <td>16.400000</td>\n",
              "      <td>2.400000</td>\n",
              "      <td>1.400000</td>\n",
              "    </tr>\n",
              "  </tbody>\n",
              "</table>\n",
              "</div>"
            ],
            "text/plain": [
              "              PRCP        SNOW        SNWD        WESD        WESF\n",
              "count  3538.000000  2266.00000  216.000000  175.000000  256.000000\n",
              "mean      0.137340     0.09594    1.026852    0.160571    0.073828\n",
              "std       0.382174     0.64966    2.738447    0.457994    0.175507\n",
              "min       0.000000     0.00000    0.000000    0.000000    0.000000\n",
              "25%       0.000000     0.00000    0.000000    0.000000    0.000000\n",
              "50%       0.000000     0.00000    0.000000    0.000000    0.000000\n",
              "75%       0.070000     0.00000    0.350000    0.100000    0.100000\n",
              "max       6.960000    12.30000   16.400000    2.400000    1.400000"
            ]
          },
          "metadata": {
            "tags": []
          },
          "execution_count": 24
        }
      ]
    },
    {
      "cell_type": "code",
      "metadata": {
        "colab": {
          "base_uri": "https://localhost:8080/"
        },
        "id": "_d_qocA1gbMe",
        "outputId": "07b0ad98-54ab-450b-fade-5c29ae211da1"
      },
      "source": [
        "df.DATE"
      ],
      "execution_count": null,
      "outputs": [
        {
          "output_type": "execute_result",
          "data": {
            "text/plain": [
              "0       2010-01-01\n",
              "1       2010-01-02\n",
              "2       2010-01-03\n",
              "3       2010-01-04\n",
              "4       2010-01-05\n",
              "           ...    \n",
              "3533    2019-09-04\n",
              "3534    2019-09-05\n",
              "3535    2019-09-06\n",
              "3536    2019-09-07\n",
              "3537    2019-09-08\n",
              "Name: DATE, Length: 3538, dtype: object"
            ]
          },
          "metadata": {
            "tags": []
          },
          "execution_count": 25
        }
      ]
    },
    {
      "cell_type": "code",
      "metadata": {
        "colab": {
          "base_uri": "https://localhost:8080/"
        },
        "id": "zKZcqXXQgbPP",
        "outputId": "b3177987-5bcd-4aa4-8701-19399f4cca5a"
      },
      "source": [
        "#to have dtype: date we use:\n",
        "pd.to_datetime(df.DATE)"
      ],
      "execution_count": null,
      "outputs": [
        {
          "output_type": "execute_result",
          "data": {
            "text/plain": [
              "0      2010-01-01\n",
              "1      2010-01-02\n",
              "2      2010-01-03\n",
              "3      2010-01-04\n",
              "4      2010-01-05\n",
              "          ...    \n",
              "3533   2019-09-04\n",
              "3534   2019-09-05\n",
              "3535   2019-09-06\n",
              "3536   2019-09-07\n",
              "3537   2019-09-08\n",
              "Name: DATE, Length: 3538, dtype: datetime64[ns]"
            ]
          },
          "metadata": {
            "tags": []
          },
          "execution_count": 26
        }
      ]
    },
    {
      "cell_type": "code",
      "metadata": {
        "id": "NPa6BFTogbR4"
      },
      "source": [
        "listnumv = [\"PRCP\",\t\"SNOW\",\t\"SNWD\",\t\"WESD\",\t\"WESF\"]"
      ],
      "execution_count": null,
      "outputs": []
    },
    {
      "cell_type": "code",
      "metadata": {
        "colab": {
          "base_uri": "https://localhost:8080/"
        },
        "id": "6qzydptmgbVF",
        "outputId": "46a9dc89-b43a-4125-ef75-7e4d7d3d2ce3"
      },
      "source": [
        "df[listnumv].values"
      ],
      "execution_count": null,
      "outputs": [
        {
          "output_type": "execute_result",
          "data": {
            "text/plain": [
              "array([[0.28,  nan, 0.  ,  nan,  nan],\n",
              "       [0.  , 0.  ,  nan,  nan,  nan],\n",
              "       [0.  , 0.  ,  nan,  nan,  nan],\n",
              "       ...,\n",
              "       [0.  , 0.  ,  nan,  nan,  nan],\n",
              "       [0.02,  nan,  nan,  nan,  nan],\n",
              "       [0.  , 0.  ,  nan,  nan,  nan]])"
            ]
          },
          "metadata": {
            "tags": []
          },
          "execution_count": 28
        }
      ]
    },
    {
      "cell_type": "code",
      "metadata": {
        "colab": {
          "base_uri": "https://localhost:8080/"
        },
        "id": "Hd0dr3rfgbXE",
        "outputId": "9eabf7ff-43a3-4dac-ed81-fef484f8328d"
      },
      "source": [
        "(df[listnumv].values).dtype"
      ],
      "execution_count": null,
      "outputs": [
        {
          "output_type": "execute_result",
          "data": {
            "text/plain": [
              "dtype('float64')"
            ]
          },
          "metadata": {
            "tags": []
          },
          "execution_count": 29
        }
      ]
    },
    {
      "cell_type": "code",
      "metadata": {
        "colab": {
          "base_uri": "https://localhost:8080/"
        },
        "id": "k6J5NOQjgbZs",
        "outputId": "104695f9-9ca8-4d61-89e6-83199bd0d833"
      },
      "source": [
        "type(df[listnumv].values)"
      ],
      "execution_count": null,
      "outputs": [
        {
          "output_type": "execute_result",
          "data": {
            "text/plain": [
              "numpy.ndarray"
            ]
          },
          "metadata": {
            "tags": []
          },
          "execution_count": 30
        }
      ]
    },
    {
      "cell_type": "code",
      "metadata": {
        "id": "BcHl9Zsxgbcd"
      },
      "source": [
        "#so from 2010 to 2019, in Delaware -> extract only the dates the dates after 01_2019 and see the statistics. Use the standard deviation as the sigma and the size of my sample to calculate my z and see if the z..."
      ],
      "execution_count": null,
      "outputs": []
    },
    {
      "cell_type": "code",
      "metadata": {
        "id": "AQeaS0W2h1lv"
      },
      "source": [
        "dates = pd.to_datetime(df.DATE)"
      ],
      "execution_count": null,
      "outputs": []
    },
    {
      "cell_type": "code",
      "metadata": {
        "id": "ESZxYsi_h1ob"
      },
      "source": [
        "df19 =df[dates >= pd.to_datetime('2019-01-01')]"
      ],
      "execution_count": null,
      "outputs": []
    },
    {
      "cell_type": "code",
      "metadata": {
        "colab": {
          "base_uri": "https://localhost:8080/",
          "height": 284
        },
        "id": "Mbqoze3dh1rC",
        "outputId": "a825a1a0-3daa-4c86-8ed0-75d9f381668c"
      },
      "source": [
        "df19.describe()"
      ],
      "execution_count": null,
      "outputs": [
        {
          "output_type": "execute_result",
          "data": {
            "text/html": [
              "<div>\n",
              "<style scoped>\n",
              "    .dataframe tbody tr th:only-of-type {\n",
              "        vertical-align: middle;\n",
              "    }\n",
              "\n",
              "    .dataframe tbody tr th {\n",
              "        vertical-align: top;\n",
              "    }\n",
              "\n",
              "    .dataframe thead th {\n",
              "        text-align: right;\n",
              "    }\n",
              "</style>\n",
              "<table border=\"1\" class=\"dataframe\">\n",
              "  <thead>\n",
              "    <tr style=\"text-align: right;\">\n",
              "      <th></th>\n",
              "      <th>PRCP</th>\n",
              "      <th>SNOW</th>\n",
              "      <th>SNWD</th>\n",
              "      <th>WESD</th>\n",
              "      <th>WESF</th>\n",
              "    </tr>\n",
              "  </thead>\n",
              "  <tbody>\n",
              "    <tr>\n",
              "      <th>count</th>\n",
              "      <td>251.000000</td>\n",
              "      <td>148.000000</td>\n",
              "      <td>10.000000</td>\n",
              "      <td>5.000000</td>\n",
              "      <td>9.000000</td>\n",
              "    </tr>\n",
              "    <tr>\n",
              "      <th>mean</th>\n",
              "      <td>0.140398</td>\n",
              "      <td>0.107432</td>\n",
              "      <td>0.890000</td>\n",
              "      <td>0.120000</td>\n",
              "      <td>0.055556</td>\n",
              "    </tr>\n",
              "    <tr>\n",
              "      <th>std</th>\n",
              "      <td>0.326314</td>\n",
              "      <td>0.450108</td>\n",
              "      <td>1.366626</td>\n",
              "      <td>0.130384</td>\n",
              "      <td>0.072648</td>\n",
              "    </tr>\n",
              "    <tr>\n",
              "      <th>min</th>\n",
              "      <td>0.000000</td>\n",
              "      <td>0.000000</td>\n",
              "      <td>0.000000</td>\n",
              "      <td>0.000000</td>\n",
              "      <td>0.000000</td>\n",
              "    </tr>\n",
              "    <tr>\n",
              "      <th>25%</th>\n",
              "      <td>0.000000</td>\n",
              "      <td>0.000000</td>\n",
              "      <td>0.000000</td>\n",
              "      <td>0.000000</td>\n",
              "      <td>0.000000</td>\n",
              "    </tr>\n",
              "    <tr>\n",
              "      <th>50%</th>\n",
              "      <td>0.000000</td>\n",
              "      <td>0.000000</td>\n",
              "      <td>0.000000</td>\n",
              "      <td>0.100000</td>\n",
              "      <td>0.000000</td>\n",
              "    </tr>\n",
              "    <tr>\n",
              "      <th>75%</th>\n",
              "      <td>0.100000</td>\n",
              "      <td>0.000000</td>\n",
              "      <td>1.525000</td>\n",
              "      <td>0.200000</td>\n",
              "      <td>0.100000</td>\n",
              "    </tr>\n",
              "    <tr>\n",
              "      <th>max</th>\n",
              "      <td>2.290000</td>\n",
              "      <td>3.500000</td>\n",
              "      <td>4.000000</td>\n",
              "      <td>0.300000</td>\n",
              "      <td>0.200000</td>\n",
              "    </tr>\n",
              "  </tbody>\n",
              "</table>\n",
              "</div>"
            ],
            "text/plain": [
              "             PRCP        SNOW       SNWD      WESD      WESF\n",
              "count  251.000000  148.000000  10.000000  5.000000  9.000000\n",
              "mean     0.140398    0.107432   0.890000  0.120000  0.055556\n",
              "std      0.326314    0.450108   1.366626  0.130384  0.072648\n",
              "min      0.000000    0.000000   0.000000  0.000000  0.000000\n",
              "25%      0.000000    0.000000   0.000000  0.000000  0.000000\n",
              "50%      0.000000    0.000000   0.000000  0.100000  0.000000\n",
              "75%      0.100000    0.000000   1.525000  0.200000  0.100000\n",
              "max      2.290000    3.500000   4.000000  0.300000  0.200000"
            ]
          },
          "metadata": {
            "tags": []
          },
          "execution_count": 5
        }
      ]
    },
    {
      "cell_type": "code",
      "metadata": {
        "colab": {
          "base_uri": "https://localhost:8080/",
          "height": 284
        },
        "id": "4p5E6MNEh1vK",
        "outputId": "ef7bf128-ec49-4f25-8b4c-bdc424d9519d"
      },
      "source": [
        "df.describe()"
      ],
      "execution_count": null,
      "outputs": [
        {
          "output_type": "execute_result",
          "data": {
            "text/html": [
              "<div>\n",
              "<style scoped>\n",
              "    .dataframe tbody tr th:only-of-type {\n",
              "        vertical-align: middle;\n",
              "    }\n",
              "\n",
              "    .dataframe tbody tr th {\n",
              "        vertical-align: top;\n",
              "    }\n",
              "\n",
              "    .dataframe thead th {\n",
              "        text-align: right;\n",
              "    }\n",
              "</style>\n",
              "<table border=\"1\" class=\"dataframe\">\n",
              "  <thead>\n",
              "    <tr style=\"text-align: right;\">\n",
              "      <th></th>\n",
              "      <th>PRCP</th>\n",
              "      <th>SNOW</th>\n",
              "      <th>SNWD</th>\n",
              "      <th>WESD</th>\n",
              "      <th>WESF</th>\n",
              "    </tr>\n",
              "  </thead>\n",
              "  <tbody>\n",
              "    <tr>\n",
              "      <th>count</th>\n",
              "      <td>3538.000000</td>\n",
              "      <td>2266.00000</td>\n",
              "      <td>216.000000</td>\n",
              "      <td>175.000000</td>\n",
              "      <td>256.000000</td>\n",
              "    </tr>\n",
              "    <tr>\n",
              "      <th>mean</th>\n",
              "      <td>0.137340</td>\n",
              "      <td>0.09594</td>\n",
              "      <td>1.026852</td>\n",
              "      <td>0.160571</td>\n",
              "      <td>0.073828</td>\n",
              "    </tr>\n",
              "    <tr>\n",
              "      <th>std</th>\n",
              "      <td>0.382174</td>\n",
              "      <td>0.64966</td>\n",
              "      <td>2.738447</td>\n",
              "      <td>0.457994</td>\n",
              "      <td>0.175507</td>\n",
              "    </tr>\n",
              "    <tr>\n",
              "      <th>min</th>\n",
              "      <td>0.000000</td>\n",
              "      <td>0.00000</td>\n",
              "      <td>0.000000</td>\n",
              "      <td>0.000000</td>\n",
              "      <td>0.000000</td>\n",
              "    </tr>\n",
              "    <tr>\n",
              "      <th>25%</th>\n",
              "      <td>0.000000</td>\n",
              "      <td>0.00000</td>\n",
              "      <td>0.000000</td>\n",
              "      <td>0.000000</td>\n",
              "      <td>0.000000</td>\n",
              "    </tr>\n",
              "    <tr>\n",
              "      <th>50%</th>\n",
              "      <td>0.000000</td>\n",
              "      <td>0.00000</td>\n",
              "      <td>0.000000</td>\n",
              "      <td>0.000000</td>\n",
              "      <td>0.000000</td>\n",
              "    </tr>\n",
              "    <tr>\n",
              "      <th>75%</th>\n",
              "      <td>0.070000</td>\n",
              "      <td>0.00000</td>\n",
              "      <td>0.350000</td>\n",
              "      <td>0.100000</td>\n",
              "      <td>0.100000</td>\n",
              "    </tr>\n",
              "    <tr>\n",
              "      <th>max</th>\n",
              "      <td>6.960000</td>\n",
              "      <td>12.30000</td>\n",
              "      <td>16.400000</td>\n",
              "      <td>2.400000</td>\n",
              "      <td>1.400000</td>\n",
              "    </tr>\n",
              "  </tbody>\n",
              "</table>\n",
              "</div>"
            ],
            "text/plain": [
              "              PRCP        SNOW        SNWD        WESD        WESF\n",
              "count  3538.000000  2266.00000  216.000000  175.000000  256.000000\n",
              "mean      0.137340     0.09594    1.026852    0.160571    0.073828\n",
              "std       0.382174     0.64966    2.738447    0.457994    0.175507\n",
              "min       0.000000     0.00000    0.000000    0.000000    0.000000\n",
              "25%       0.000000     0.00000    0.000000    0.000000    0.000000\n",
              "50%       0.000000     0.00000    0.000000    0.000000    0.000000\n",
              "75%       0.070000     0.00000    0.350000    0.100000    0.100000\n",
              "max       6.960000    12.30000   16.400000    2.400000    1.400000"
            ]
          },
          "metadata": {
            "tags": []
          },
          "execution_count": 6
        }
      ]
    },
    {
      "cell_type": "code",
      "metadata": {
        "id": "vHLl7cenh1x_"
      },
      "source": [
        "z_test = ((df19.PRCP.mean())-(df.PRCP.mean()))/(df19.PRCP.std())/np.sqrt(len(dates))"
      ],
      "execution_count": null,
      "outputs": []
    },
    {
      "cell_type": "code",
      "metadata": {
        "colab": {
          "base_uri": "https://localhost:8080/"
        },
        "id": "DpoyRHsbh1zu",
        "outputId": "d557da64-83db-4235-840c-0a2a645044e3"
      },
      "source": [
        "print(z_test)"
      ],
      "execution_count": null,
      "outputs": [
        {
          "output_type": "stream",
          "text": [
            "0.00015755696245583456\n"
          ],
          "name": "stdout"
        }
      ]
    },
    {
      "cell_type": "code",
      "metadata": {
        "colab": {
          "base_uri": "https://localhost:8080/",
          "height": 265
        },
        "id": "wV3UV4S4h2H9",
        "outputId": "90d23618-b446-4bb2-cfb4-37175da2473f"
      },
      "source": [
        "plt.hist(df.PRCP, bins = 50, density=True, range = (0,2))\n",
        "plt.hist(df19.PRCP, bins = 50, density = True, range = (0,2))\n",
        "plt.show()"
      ],
      "execution_count": null,
      "outputs": [
        {
          "output_type": "display_data",
          "data": {
            "image/png": "[encoded data removed]",
            "text/plain": [
              "<Figure size 432x288 with 1 Axes>"
            ]
          },
          "metadata": {
            "tags": [],
            "needs_background": "light"
          }
        }
      ]
    },
    {
      "cell_type": "code",
      "metadata": {
        "id": "m3f8joXKoeIB"
      },
      "source": [
        "samp = df[(pd.to_datetime(df.DATE) > pd.to_datetime(\"2018-12-31\"))]"
      ],
      "execution_count": null,
      "outputs": []
    },
    {
      "cell_type": "code",
      "metadata": {
        "id": "m51kxJ_-obL9"
      },
      "source": [
        "pop = df[-(pd.to_datetime(df.DATE) > pd.to_datetime(\"2018-12-31\"))]"
      ],
      "execution_count": null,
      "outputs": []
    },
    {
      "cell_type": "code",
      "metadata": {
        "id": "tq7ec6hpodt8"
      },
      "source": [
        "import numpy as np"
      ],
      "execution_count": null,
      "outputs": []
    },
    {
      "cell_type": "code",
      "metadata": {
        "id": "uO2n0fP5h2Kn"
      },
      "source": [
        "def Z(pop, samp):\n",
        "  return ((pop.mean() -samp.mean()) / np.std(pop) / np.sqrt(len(samp)))"
      ],
      "execution_count": null,
      "outputs": []
    },
    {
      "cell_type": "code",
      "metadata": {
        "colab": {
          "base_uri": "https://localhost:8080/"
        },
        "id": "iXxyV_9aoMBt",
        "outputId": "e1ab3d55-3909-4649-e834-9d397e2bfddb"
      },
      "source": [
        "Z(pop.PRCP, samp.PRCP)"
      ],
      "execution_count": null,
      "outputs": [
        {
          "output_type": "execute_result",
          "data": {
            "text/plain": [
              "-0.0005381251069945037"
            ]
          },
          "metadata": {
            "tags": []
          },
          "execution_count": 67
        }
      ]
    },
    {
      "cell_type": "code",
      "metadata": {
        "id": "AklBQtTXh2NM"
      },
      "source": [
        "#Lezione 25/03/21"
      ],
      "execution_count": null,
      "outputs": []
    },
    {
      "cell_type": "code",
      "metadata": {
        "id": "6Lp_elfVh2Pn"
      },
      "source": [
        "import scipy as sp\n",
        "from scipy import stats"
      ],
      "execution_count": null,
      "outputs": []
    },
    {
      "cell_type": "code",
      "metadata": {
        "id": "Ms_tnciBh2Sm"
      },
      "source": [
        "#import 2 distributions: standard and chi square or something else"
      ],
      "execution_count": null,
      "outputs": []
    },
    {
      "cell_type": "code",
      "metadata": {
        "id": "UXuwE3Z5h2WX"
      },
      "source": [
        "standard_fake_distribution = sp.stats.norm.rvs(size = 100)"
      ],
      "execution_count": null,
      "outputs": []
    },
    {
      "cell_type": "code",
      "metadata": {
        "id": "0xVHb9NAjk3I"
      },
      "source": [
        "binomial_fake_distribution = sp.stats.binom.rvs(n = 1, p = 0.5, size = 100)\n",
        "#.rvs(n = , size =100)\n",
        "t_fake_distribution = sp.stats.t.rvs(100,size=100)"
      ],
      "execution_count": null,
      "outputs": []
    },
    {
      "cell_type": "code",
      "metadata": {
        "id": "-_I1XyYzh2Yj",
        "colab": {
          "base_uri": "https://localhost:8080/"
        },
        "outputId": "1223d56e-550a-4bcc-ac36-afa8835fa8f9"
      },
      "source": [
        "sp.stats.kstest(t_fake_distribution, standard_fake_distribution)"
      ],
      "execution_count": null,
      "outputs": [
        {
          "output_type": "execute_result",
          "data": {
            "text/plain": [
              "KstestResult(statistic=0.047940200953305645, pvalue=0.9756156910756248)"
            ]
          },
          "metadata": {
            "tags": []
          },
          "execution_count": 43
        }
      ]
    },
    {
      "cell_type": "code",
      "metadata": {
        "id": "5rqvoEjUgbgY"
      },
      "source": [
        "#compare normal and binomial distribution with different means\n",
        "#generate N values from  a distribution (normal fist then another one)\n",
        "#Use the spicy.stats.kstest() to test if the sample is normal or not\n"
      ],
      "execution_count": null,
      "outputs": []
    },
    {
      "cell_type": "code",
      "metadata": {
        "id": "uf-fG0dPgbje"
      },
      "source": [
        "dt = sp.stats.binom.rvs(200, 0.5, size=100)"
      ],
      "execution_count": null,
      "outputs": []
    },
    {
      "cell_type": "code",
      "metadata": {
        "id": "zPr4EoZ8gblA",
        "colab": {
          "base_uri": "https://localhost:8080/"
        },
        "outputId": "f13b926b-6b49-4667-f8ef-90782a8ddd8b"
      },
      "source": [
        "sp.stats.kstest(dt, 'norm')"
      ],
      "execution_count": null,
      "outputs": [
        {
          "output_type": "execute_result",
          "data": {
            "text/plain": [
              "KstestResult(statistic=1.0, pvalue=0.0)"
            ]
          },
          "metadata": {
            "tags": []
          },
          "execution_count": 48
        }
      ]
    },
    {
      "cell_type": "code",
      "metadata": {
        "id": "pYBZ7Hulgbm8"
      },
      "source": [
        "data = sp.stats.norm.rvs(size = 100)"
      ],
      "execution_count": null,
      "outputs": []
    },
    {
      "cell_type": "code",
      "metadata": {
        "id": "Vlt1SlY1gbqC",
        "colab": {
          "base_uri": "https://localhost:8080/"
        },
        "outputId": "6f8fcbd8-5c41-46b3-8a6f-f4b0955dd4ee"
      },
      "source": [
        "sp.stats.kstest(data, 'norm')"
      ],
      "execution_count": null,
      "outputs": [
        {
          "output_type": "execute_result",
          "data": {
            "text/plain": [
              "KstestResult(statistic=0.06578719890108209, pvalue=0.7797199145368251)"
            ]
          },
          "metadata": {
            "tags": []
          },
          "execution_count": 50
        }
      ]
    },
    {
      "cell_type": "code",
      "metadata": {
        "id": "MiY3r6szd5PG"
      },
      "source": [
        "#if pvalue < 0.05 -> reject hypothesis, if greater don't;"
      ],
      "execution_count": null,
      "outputs": []
    },
    {
      "cell_type": "code",
      "metadata": {
        "id": "eBRwfVfMppF7"
      },
      "source": [
        "data1 = (sp.stats.binom.rvs())"
      ],
      "execution_count": null,
      "outputs": []
    },
    {
      "cell_type": "code",
      "metadata": {
        "id": "zAfjonExqIuZ"
      },
      "source": [
        "data2 = (sp.stats.norm.rvs(loc=500, scale = 100*0.5*0.5, size= 100))"
      ],
      "execution_count": null,
      "outputs": []
    },
    {
      "cell_type": "code",
      "metadata": {
        "id": "60LTDNpaqIxV"
      },
      "source": [
        "sp.stats.ks_2samp(data1, data2)"
      ],
      "execution_count": null,
      "outputs": []
    },
    {
      "cell_type": "code",
      "metadata": {
        "id": "3aVEBR6gqI0G"
      },
      "source": [
        "#Exercise"
      ],
      "execution_count": null,
      "outputs": []
    },
    {
      "cell_type": "code",
      "metadata": {
        "id": "Kwh_SYXPqI6R"
      },
      "source": [
        "df = pd.read_csv(\"https://raw.githubusercontent.com/fedhere/MLPNS2021/main/NHRT/earthquakes.csv\")"
      ],
      "execution_count": null,
      "outputs": []
    },
    {
      "cell_type": "code",
      "metadata": {
        "colab": {
          "base_uri": "https://localhost:8080/"
        },
        "id": "Y6QgfbWvv_hY",
        "outputId": "925a48ad-a079-4871-dd54-be559e3ae062"
      },
      "source": [
        "type(df)"
      ],
      "execution_count": null,
      "outputs": [
        {
          "output_type": "execute_result",
          "data": {
            "text/plain": [
              "pandas.core.frame.DataFrame"
            ]
          },
          "metadata": {
            "tags": []
          },
          "execution_count": 53
        }
      ]
    },
    {
      "cell_type": "code",
      "metadata": {
        "colab": {
          "base_uri": "https://localhost:8080/",
          "height": 195
        },
        "id": "grA-FkRMv_kD",
        "outputId": "64df272a-964d-4b43-fbad-e8609927e3c2"
      },
      "source": [
        "df.head()"
      ],
      "execution_count": null,
      "outputs": [
        {
          "output_type": "execute_result",
          "data": {
            "text/html": [
              "<div>\n",
              "<style scoped>\n",
              "    .dataframe tbody tr th:only-of-type {\n",
              "        vertical-align: middle;\n",
              "    }\n",
              "\n",
              "    .dataframe tbody tr th {\n",
              "        vertical-align: top;\n",
              "    }\n",
              "\n",
              "    .dataframe thead th {\n",
              "        text-align: right;\n",
              "    }\n",
              "</style>\n",
              "<table border=\"1\" class=\"dataframe\">\n",
              "  <thead>\n",
              "    <tr style=\"text-align: right;\">\n",
              "      <th></th>\n",
              "      <th>#YYY/MM/DD HH:mm:SS.ss ET GT MAG  M    LAT       LON      DEPTH Q  EVID      NPH NGRM</th>\n",
              "    </tr>\n",
              "  </thead>\n",
              "  <tbody>\n",
              "    <tr>\n",
              "      <th>0</th>\n",
              "      <td>1984/01/01 01:30:57.52 eq  l 2.02 c   33.24600...</td>\n",
              "    </tr>\n",
              "    <tr>\n",
              "      <th>1</th>\n",
              "      <td>1984/01/01 05:31:34.16 eq  l 2.12 c   32.94500...</td>\n",
              "    </tr>\n",
              "    <tr>\n",
              "      <th>2</th>\n",
              "      <td>1984/01/01 06:59:05.14 eq  l 2.43 c   33.34300...</td>\n",
              "    </tr>\n",
              "    <tr>\n",
              "      <th>3</th>\n",
              "      <td>1984/01/01 11:10:25.29 eq  l 2.07 c   33.66800...</td>\n",
              "    </tr>\n",
              "    <tr>\n",
              "      <th>4</th>\n",
              "      <td>1984/01/01 19:38:19.79 eq  l 2.13 c   33.96300...</td>\n",
              "    </tr>\n",
              "  </tbody>\n",
              "</table>\n",
              "</div>"
            ],
            "text/plain": [
              "  #YYY/MM/DD HH:mm:SS.ss ET GT MAG  M    LAT       LON      DEPTH Q  EVID      NPH NGRM\n",
              "0  1984/01/01 01:30:57.52 eq  l 2.02 c   33.24600...                                   \n",
              "1  1984/01/01 05:31:34.16 eq  l 2.12 c   32.94500...                                   \n",
              "2  1984/01/01 06:59:05.14 eq  l 2.43 c   33.34300...                                   \n",
              "3  1984/01/01 11:10:25.29 eq  l 2.07 c   33.66800...                                   \n",
              "4  1984/01/01 19:38:19.79 eq  l 2.13 c   33.96300...                                   "
            ]
          },
          "metadata": {
            "tags": []
          },
          "execution_count": 55
        }
      ]
    },
    {
      "cell_type": "code",
      "metadata": {
        "colab": {
          "base_uri": "https://localhost:8080/",
          "height": 195
        },
        "id": "t9ZefRpAv_m8",
        "outputId": "92bcac9b-8020-42f6-9fae-9dc5c7201229"
      },
      "source": [
        "df.tail()"
      ],
      "execution_count": null,
      "outputs": [
        {
          "output_type": "execute_result",
          "data": {
            "text/html": [
              "<div>\n",
              "<style scoped>\n",
              "    .dataframe tbody tr th:only-of-type {\n",
              "        vertical-align: middle;\n",
              "    }\n",
              "\n",
              "    .dataframe tbody tr th {\n",
              "        vertical-align: top;\n",
              "    }\n",
              "\n",
              "    .dataframe thead th {\n",
              "        text-align: right;\n",
              "    }\n",
              "</style>\n",
              "<table border=\"1\" class=\"dataframe\">\n",
              "  <thead>\n",
              "    <tr style=\"text-align: right;\">\n",
              "      <th></th>\n",
              "      <th>#YYY/MM/DD HH:mm:SS.ss ET GT MAG  M    LAT       LON      DEPTH Q  EVID      NPH NGRM</th>\n",
              "    </tr>\n",
              "  </thead>\n",
              "  <tbody>\n",
              "    <tr>\n",
              "      <th>70793</th>\n",
              "      <td>2002/12/29 19:37:24.56 eq  l 2.21 l   35.31400...</td>\n",
              "    </tr>\n",
              "    <tr>\n",
              "      <th>70794</th>\n",
              "      <td>2002/12/29 20:17:33.40 eq  l 2.02 l   35.32133...</td>\n",
              "    </tr>\n",
              "    <tr>\n",
              "      <th>70795</th>\n",
              "      <td>2002/12/29 20:21:28.73 eq  l 2.07 l   35.32150...</td>\n",
              "    </tr>\n",
              "    <tr>\n",
              "      <th>70796</th>\n",
              "      <td>2002/12/30 21:51:52.55 eq  l 2.31 l   35.31867...</td>\n",
              "    </tr>\n",
              "    <tr>\n",
              "      <th>70797</th>\n",
              "      <td>2002/12/30 23:38:49.79 eq  l 2.05 l   35.31450...</td>\n",
              "    </tr>\n",
              "  </tbody>\n",
              "</table>\n",
              "</div>"
            ],
            "text/plain": [
              "      #YYY/MM/DD HH:mm:SS.ss ET GT MAG  M    LAT       LON      DEPTH Q  EVID      NPH NGRM\n",
              "70793  2002/12/29 19:37:24.56 eq  l 2.21 l   35.31400...                                   \n",
              "70794  2002/12/29 20:17:33.40 eq  l 2.02 l   35.32133...                                   \n",
              "70795  2002/12/29 20:21:28.73 eq  l 2.07 l   35.32150...                                   \n",
              "70796  2002/12/30 21:51:52.55 eq  l 2.31 l   35.31867...                                   \n",
              "70797  2002/12/30 23:38:49.79 eq  l 2.05 l   35.31450...                                   "
            ]
          },
          "metadata": {
            "tags": []
          },
          "execution_count": 57
        }
      ]
    },
    {
      "cell_type": "code",
      "metadata": {
        "colab": {
          "base_uri": "https://localhost:8080/"
        },
        "id": "xV_qwQzbv_po",
        "outputId": "ac49f5ad-65a8-4762-b48f-766db58ccbf7"
      },
      "source": [
        "df.columns"
      ],
      "execution_count": null,
      "outputs": [
        {
          "output_type": "execute_result",
          "data": {
            "text/plain": [
              "Index(['#YYY/MM/DD HH:mm:SS.ss ET GT MAG  M    LAT       LON      DEPTH Q  EVID      NPH NGRM'], dtype='object')"
            ]
          },
          "metadata": {
            "tags": []
          },
          "execution_count": 58
        }
      ]
    },
    {
      "cell_type": "code",
      "metadata": {
        "id": "bNQa93giv_sX"
      },
      "source": [
        ""
      ],
      "execution_count": null,
      "outputs": []
    },
    {
      "cell_type": "code",
      "metadata": {
        "id": "MQjCKHu4v_xp"
      },
      "source": [
        ""
      ],
      "execution_count": null,
      "outputs": []
    },
    {
      "cell_type": "code",
      "metadata": {
        "id": "zljLy533v_04"
      },
      "source": [
        ""
      ],
      "execution_count": null,
      "outputs": []
    },
    {
      "cell_type": "code",
      "metadata": {
        "id": "kWgVVQDEv_3V"
      },
      "source": [
        ""
      ],
      "execution_count": null,
      "outputs": []
    },
    {
      "cell_type": "code",
      "metadata": {
        "id": "JJ4we8Oov_5w"
      },
      "source": [
        ""
      ],
      "execution_count": null,
      "outputs": []
    },
    {
      "cell_type": "code",
      "metadata": {
        "id": "jqf_MVzSv_9L"
      },
      "source": [
        ""
      ],
      "execution_count": null,
      "outputs": []
    },
    {
      "cell_type": "code",
      "metadata": {
        "id": "AJt9sQQGv__u"
      },
      "source": [
        ""
      ],
      "execution_count": null,
      "outputs": []
    },
    {
      "cell_type": "code",
      "metadata": {
        "id": "z4sOm8J5wACF"
      },
      "source": [
        ""
      ],
      "execution_count": null,
      "outputs": []
    }
  ]
}